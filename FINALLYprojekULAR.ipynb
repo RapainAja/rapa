{
  "nbformat": 4,
  "nbformat_minor": 0,
  "metadata": {
    "colab": {
      "provenance": [],
      "authorship_tag": "ABX9TyOa1wXJKotAuNtHbz04pVU6",
      "include_colab_link": true
    },
    "kernelspec": {
      "name": "python3",
      "display_name": "Python 3"
    },
    "language_info": {
      "name": "python"
    }
  },
  "cells": [
    {
      "cell_type": "markdown",
      "metadata": {
        "id": "view-in-github",
        "colab_type": "text"
      },
      "source": [
        "<a href=\"https://colab.research.google.com/github/RapainAja/rapa/blob/main/FINALLYprojekULAR.ipynb\" target=\"_parent\"><img src=\"https://colab.research.google.com/assets/colab-badge.svg\" alt=\"Open In Colab\"/></a>"
      ]
    },
    {
      "cell_type": "code",
      "source": [
        "# List untuk menyimpan data siswa\n",
        "data_siswa = []\n",
        "\n",
        "# Fungsi untuk meminta input data siswa\n",
        "def input_data_siswa():\n",
        "    nama = input(\"Masukkan nama siswa: \")\n",
        "    nim = input(\"Masukkan NIM siswa: \")\n",
        "    jurusan = input(\"Masukkan jurusan siswa: \")\n",
        "    nilai = float(input(\"Masukkan nilai siswa (0-100): \"))  # Menggunakan tipe data float untuk nilai\n",
        "\n",
        "    # Menyimpan data siswa dalam dictionary\n",
        "    siswa = {\n",
        "        \"nama\": nama,\n",
        "        \"nim\": nim,\n",
        "        \"jurusan\": jurusan,\n",
        "        \"nilai\": nilai\n",
        "    }\n",
        "\n",
        "    # Menambahkan data siswa ke dalam list\n",
        "    data_siswa.append(siswa)\n",
        "\n",
        "# Fungsi untuk menampilkan semua data siswa\n",
        "def tampilkan_data_siswa():\n",
        "    if not data_siswa:\n",
        "        print(\"Tidak ada data siswa yang tersedia.\")\n",
        "    else:\n",
        "        print(\"\\nData Siswa:\")\n",
        "        for siswa in data_siswa:\n",
        "            print(f\"Nama: {siswa['nama']}, NIM: {siswa['nim']}, Jurusan: {siswa['jurusan']}, Nilai: {siswa['nilai']}\")\n",
        "\n",
        "# Fungsi untuk mencari siswa berdasarkan NIM\n",
        "def cari_siswa_berdasarkan_nim():\n",
        "    nim_cari = input(\"Masukkan NIM yang ingin dicari: \")\n",
        "    ditemukan = False\n",
        "    for siswa in data_siswa:\n",
        "        if siswa[\"nim\"] == nim_cari:\n",
        "            print(f\"Nama: {siswa['nama']}, NIM: {siswa['nim']}, Jurusan: {siswa['jurusan']}, Nilai: {siswa['nilai']}\")\n",
        "            ditemukan = True\n",
        "            break\n",
        "    if not ditemukan:\n",
        "        print(\"Siswa dengan NIM tersebut tidak ditemukan.\")\n",
        "\n",
        "# Fungsi untuk menghitung rata-rata nilai siswa\n",
        "def hitung_rata_rata_nilai():\n",
        "    if not data_siswa:\n",
        "        print(\"Tidak ada data siswa untuk menghitung rata-rata nilai.\")\n",
        "    else:\n",
        "        total_nilai = sum(siswa[\"nilai\"] for siswa in data_siswa)\n",
        "        rata_rata = total_nilai / len(data_siswa)\n",
        "        print(f\"Rata-rata nilai siswa: {rata_rata:.2f}\")\n",
        "\n",
        "# Fungsi untuk menampilkan menu dan menangani pilihan pengguna\n",
        "def menu():\n",
        "    while True:\n",
        "        print(\"\\n--- Menu ---\")\n",
        "        print(\"1. Tambahkan Data Siswa\")\n",
        "        print(\"2. Tampilkan Semua Data Siswa\")\n",
        "        print(\"3. Cari Siswa Berdasarkan NIM\")\n",
        "        print(\"4. Hitung Rata-rata Nilai\")\n",
        "        print(\"5. Keluar\")\n",
        "\n",
        "        pilihan = input(\"Pilih opsi (1/2/3/4/5): \")\n",
        "\n",
        "        if pilihan == \"1\":\n",
        "            input_data_siswa()\n",
        "        elif pilihan == \"2\":\n",
        "            tampilkan_data_siswa()\n",
        "        elif pilihan == \"3\":\n",
        "            cari_siswa_berdasarkan_nim()\n",
        "        elif pilihan == \"4\":\n",
        "            hitung_rata_rata_nilai()\n",
        "        elif pilihan == \"5\":\n",
        "            print(\"Terima kasih! Program selesai.\")\n",
        "            break\n",
        "        else:\n",
        "            print(\"Pilihan tidak valid, silakan pilih lagi.\")\n",
        "\n",
        "# Menjalankan program\n",
        "if __name__ == \"__main__\":\n",
        "    menu()\n"
      ],
      "metadata": {
        "id": "GF89eomuiHzj"
      },
      "execution_count": null,
      "outputs": []
    }
  ]
}